{
 "cells": [
  {
   "cell_type": "markdown",
   "metadata": {
    "id": "k-FHLgwRIG7y"
   },
   "source": [
    "# ***Importing Libraries***"
   ]
  },
  {
   "cell_type": "code",
   "execution_count": null,
   "metadata": {
    "id": "SHY0-cGNNi2E"
   },
   "outputs": [],
   "source": [
    "import pandas as pd\n",
    "import numpy as np\n",
    "import seaborn as sns\n",
    "import matplotlib.pyplot as plt"
   ]
  },
  {
   "cell_type": "markdown",
   "metadata": {
    "id": "nn_OsOT1ISHX"
   },
   "source": [
    "# ***Importing File***"
   ]
  },
  {
   "cell_type": "code",
   "execution_count": null,
   "metadata": {
    "colab": {
     "base_uri": "https://localhost:8080/",
     "height": 728
    },
    "id": "C214Hd4TNzeA",
    "outputId": "9795ac4f-d85a-4ec1-9f53-1d92e2d9e193"
   },
   "outputs": [
    {
     "data": {
      "text/html": [
       "<div>\n",
       "<style scoped>\n",
       "    .dataframe tbody tr th:only-of-type {\n",
       "        vertical-align: middle;\n",
       "    }\n",
       "\n",
       "    .dataframe tbody tr th {\n",
       "        vertical-align: top;\n",
       "    }\n",
       "\n",
       "    .dataframe thead th {\n",
       "        text-align: right;\n",
       "    }\n",
       "</style>\n",
       "<table border=\"1\" class=\"dataframe\">\n",
       "  <thead>\n",
       "    <tr style=\"text-align: right;\">\n",
       "      <th></th>\n",
       "      <th>unique_id</th>\n",
       "      <th>h1n1_worry</th>\n",
       "      <th>h1n1_awareness</th>\n",
       "      <th>antiviral_medication</th>\n",
       "      <th>contact_avoidance</th>\n",
       "      <th>bought_face_mask</th>\n",
       "      <th>wash_hands_frequently</th>\n",
       "      <th>avoid_large_gatherings</th>\n",
       "      <th>reduced_outside_home_cont</th>\n",
       "      <th>avoid_touch_face</th>\n",
       "      <th>dr_recc_h1n1_vacc</th>\n",
       "      <th>dr_recc_seasonal_vacc</th>\n",
       "      <th>chronic_medic_condition</th>\n",
       "      <th>cont_child_undr_6_mnths</th>\n",
       "      <th>is_health_worker</th>\n",
       "      <th>has_health_insur</th>\n",
       "      <th>is_h1n1_vacc_effective</th>\n",
       "      <th>is_h1n1_risky</th>\n",
       "      <th>sick_from_h1n1_vacc</th>\n",
       "      <th>is_seas_vacc_effective</th>\n",
       "      <th>is_seas_risky</th>\n",
       "      <th>sick_from_seas_vacc</th>\n",
       "      <th>age_bracket</th>\n",
       "      <th>qualification</th>\n",
       "      <th>race</th>\n",
       "      <th>sex</th>\n",
       "      <th>income_level</th>\n",
       "      <th>marital_status</th>\n",
       "      <th>housing_status</th>\n",
       "      <th>employment</th>\n",
       "      <th>census_msa</th>\n",
       "      <th>no_of_adults</th>\n",
       "      <th>no_of_children</th>\n",
       "      <th>h1n1_vaccine</th>\n",
       "    </tr>\n",
       "  </thead>\n",
       "  <tbody>\n",
       "    <tr>\n",
       "      <th>0</th>\n",
       "      <td>0</td>\n",
       "      <td>1.0</td>\n",
       "      <td>0.0</td>\n",
       "      <td>0.0</td>\n",
       "      <td>0.0</td>\n",
       "      <td>0.0</td>\n",
       "      <td>0.0</td>\n",
       "      <td>0.0</td>\n",
       "      <td>1.0</td>\n",
       "      <td>1.0</td>\n",
       "      <td>0.0</td>\n",
       "      <td>0.0</td>\n",
       "      <td>0.0</td>\n",
       "      <td>0.0</td>\n",
       "      <td>0.0</td>\n",
       "      <td>1.0</td>\n",
       "      <td>3.0</td>\n",
       "      <td>1.0</td>\n",
       "      <td>2.0</td>\n",
       "      <td>2.0</td>\n",
       "      <td>1.0</td>\n",
       "      <td>2.0</td>\n",
       "      <td>55 - 64 Years</td>\n",
       "      <td>&lt; 12 Years</td>\n",
       "      <td>White</td>\n",
       "      <td>Female</td>\n",
       "      <td>Below Poverty</td>\n",
       "      <td>Not Married</td>\n",
       "      <td>Own</td>\n",
       "      <td>Not in Labor Force</td>\n",
       "      <td>Non-MSA</td>\n",
       "      <td>0.0</td>\n",
       "      <td>0.0</td>\n",
       "      <td>0</td>\n",
       "    </tr>\n",
       "    <tr>\n",
       "      <th>1</th>\n",
       "      <td>1</td>\n",
       "      <td>3.0</td>\n",
       "      <td>2.0</td>\n",
       "      <td>0.0</td>\n",
       "      <td>1.0</td>\n",
       "      <td>0.0</td>\n",
       "      <td>1.0</td>\n",
       "      <td>0.0</td>\n",
       "      <td>1.0</td>\n",
       "      <td>1.0</td>\n",
       "      <td>0.0</td>\n",
       "      <td>0.0</td>\n",
       "      <td>0.0</td>\n",
       "      <td>0.0</td>\n",
       "      <td>0.0</td>\n",
       "      <td>1.0</td>\n",
       "      <td>5.0</td>\n",
       "      <td>4.0</td>\n",
       "      <td>4.0</td>\n",
       "      <td>4.0</td>\n",
       "      <td>2.0</td>\n",
       "      <td>4.0</td>\n",
       "      <td>35 - 44 Years</td>\n",
       "      <td>12 Years</td>\n",
       "      <td>White</td>\n",
       "      <td>Male</td>\n",
       "      <td>Below Poverty</td>\n",
       "      <td>Not Married</td>\n",
       "      <td>Rent</td>\n",
       "      <td>Employed</td>\n",
       "      <td>MSA, Not Principle  City</td>\n",
       "      <td>0.0</td>\n",
       "      <td>0.0</td>\n",
       "      <td>0</td>\n",
       "    </tr>\n",
       "    <tr>\n",
       "      <th>2</th>\n",
       "      <td>2</td>\n",
       "      <td>1.0</td>\n",
       "      <td>1.0</td>\n",
       "      <td>0.0</td>\n",
       "      <td>1.0</td>\n",
       "      <td>0.0</td>\n",
       "      <td>0.0</td>\n",
       "      <td>0.0</td>\n",
       "      <td>0.0</td>\n",
       "      <td>0.0</td>\n",
       "      <td>NaN</td>\n",
       "      <td>NaN</td>\n",
       "      <td>1.0</td>\n",
       "      <td>0.0</td>\n",
       "      <td>0.0</td>\n",
       "      <td>NaN</td>\n",
       "      <td>3.0</td>\n",
       "      <td>1.0</td>\n",
       "      <td>1.0</td>\n",
       "      <td>4.0</td>\n",
       "      <td>1.0</td>\n",
       "      <td>2.0</td>\n",
       "      <td>18 - 34 Years</td>\n",
       "      <td>College Graduate</td>\n",
       "      <td>White</td>\n",
       "      <td>Male</td>\n",
       "      <td>&lt;= $75,000, Above Poverty</td>\n",
       "      <td>Not Married</td>\n",
       "      <td>Own</td>\n",
       "      <td>Employed</td>\n",
       "      <td>MSA, Not Principle  City</td>\n",
       "      <td>2.0</td>\n",
       "      <td>0.0</td>\n",
       "      <td>0</td>\n",
       "    </tr>\n",
       "    <tr>\n",
       "      <th>3</th>\n",
       "      <td>3</td>\n",
       "      <td>1.0</td>\n",
       "      <td>1.0</td>\n",
       "      <td>0.0</td>\n",
       "      <td>1.0</td>\n",
       "      <td>0.0</td>\n",
       "      <td>1.0</td>\n",
       "      <td>1.0</td>\n",
       "      <td>0.0</td>\n",
       "      <td>0.0</td>\n",
       "      <td>0.0</td>\n",
       "      <td>1.0</td>\n",
       "      <td>1.0</td>\n",
       "      <td>0.0</td>\n",
       "      <td>0.0</td>\n",
       "      <td>NaN</td>\n",
       "      <td>3.0</td>\n",
       "      <td>3.0</td>\n",
       "      <td>5.0</td>\n",
       "      <td>5.0</td>\n",
       "      <td>4.0</td>\n",
       "      <td>1.0</td>\n",
       "      <td>65+ Years</td>\n",
       "      <td>12 Years</td>\n",
       "      <td>White</td>\n",
       "      <td>Female</td>\n",
       "      <td>Below Poverty</td>\n",
       "      <td>Not Married</td>\n",
       "      <td>Rent</td>\n",
       "      <td>Not in Labor Force</td>\n",
       "      <td>MSA, Principle City</td>\n",
       "      <td>0.0</td>\n",
       "      <td>0.0</td>\n",
       "      <td>0</td>\n",
       "    </tr>\n",
       "    <tr>\n",
       "      <th>4</th>\n",
       "      <td>4</td>\n",
       "      <td>2.0</td>\n",
       "      <td>1.0</td>\n",
       "      <td>0.0</td>\n",
       "      <td>1.0</td>\n",
       "      <td>0.0</td>\n",
       "      <td>1.0</td>\n",
       "      <td>1.0</td>\n",
       "      <td>0.0</td>\n",
       "      <td>1.0</td>\n",
       "      <td>0.0</td>\n",
       "      <td>0.0</td>\n",
       "      <td>0.0</td>\n",
       "      <td>0.0</td>\n",
       "      <td>0.0</td>\n",
       "      <td>NaN</td>\n",
       "      <td>3.0</td>\n",
       "      <td>3.0</td>\n",
       "      <td>2.0</td>\n",
       "      <td>3.0</td>\n",
       "      <td>1.0</td>\n",
       "      <td>4.0</td>\n",
       "      <td>45 - 54 Years</td>\n",
       "      <td>Some College</td>\n",
       "      <td>White</td>\n",
       "      <td>Female</td>\n",
       "      <td>&lt;= $75,000, Above Poverty</td>\n",
       "      <td>Married</td>\n",
       "      <td>Own</td>\n",
       "      <td>Employed</td>\n",
       "      <td>MSA, Not Principle  City</td>\n",
       "      <td>1.0</td>\n",
       "      <td>0.0</td>\n",
       "      <td>0</td>\n",
       "    </tr>\n",
       "    <tr>\n",
       "      <th>...</th>\n",
       "      <td>...</td>\n",
       "      <td>...</td>\n",
       "      <td>...</td>\n",
       "      <td>...</td>\n",
       "      <td>...</td>\n",
       "      <td>...</td>\n",
       "      <td>...</td>\n",
       "      <td>...</td>\n",
       "      <td>...</td>\n",
       "      <td>...</td>\n",
       "      <td>...</td>\n",
       "      <td>...</td>\n",
       "      <td>...</td>\n",
       "      <td>...</td>\n",
       "      <td>...</td>\n",
       "      <td>...</td>\n",
       "      <td>...</td>\n",
       "      <td>...</td>\n",
       "      <td>...</td>\n",
       "      <td>...</td>\n",
       "      <td>...</td>\n",
       "      <td>...</td>\n",
       "      <td>...</td>\n",
       "      <td>...</td>\n",
       "      <td>...</td>\n",
       "      <td>...</td>\n",
       "      <td>...</td>\n",
       "      <td>...</td>\n",
       "      <td>...</td>\n",
       "      <td>...</td>\n",
       "      <td>...</td>\n",
       "      <td>...</td>\n",
       "      <td>...</td>\n",
       "      <td>...</td>\n",
       "    </tr>\n",
       "    <tr>\n",
       "      <th>26702</th>\n",
       "      <td>26702</td>\n",
       "      <td>2.0</td>\n",
       "      <td>0.0</td>\n",
       "      <td>0.0</td>\n",
       "      <td>1.0</td>\n",
       "      <td>0.0</td>\n",
       "      <td>0.0</td>\n",
       "      <td>0.0</td>\n",
       "      <td>1.0</td>\n",
       "      <td>0.0</td>\n",
       "      <td>0.0</td>\n",
       "      <td>0.0</td>\n",
       "      <td>0.0</td>\n",
       "      <td>0.0</td>\n",
       "      <td>0.0</td>\n",
       "      <td>NaN</td>\n",
       "      <td>3.0</td>\n",
       "      <td>1.0</td>\n",
       "      <td>1.0</td>\n",
       "      <td>5.0</td>\n",
       "      <td>2.0</td>\n",
       "      <td>2.0</td>\n",
       "      <td>65+ Years</td>\n",
       "      <td>Some College</td>\n",
       "      <td>White</td>\n",
       "      <td>Female</td>\n",
       "      <td>&lt;= $75,000, Above Poverty</td>\n",
       "      <td>Not Married</td>\n",
       "      <td>Own</td>\n",
       "      <td>Not in Labor Force</td>\n",
       "      <td>Non-MSA</td>\n",
       "      <td>0.0</td>\n",
       "      <td>0.0</td>\n",
       "      <td>0</td>\n",
       "    </tr>\n",
       "    <tr>\n",
       "      <th>26703</th>\n",
       "      <td>26703</td>\n",
       "      <td>1.0</td>\n",
       "      <td>2.0</td>\n",
       "      <td>0.0</td>\n",
       "      <td>1.0</td>\n",
       "      <td>0.0</td>\n",
       "      <td>1.0</td>\n",
       "      <td>0.0</td>\n",
       "      <td>0.0</td>\n",
       "      <td>0.0</td>\n",
       "      <td>1.0</td>\n",
       "      <td>1.0</td>\n",
       "      <td>0.0</td>\n",
       "      <td>0.0</td>\n",
       "      <td>1.0</td>\n",
       "      <td>1.0</td>\n",
       "      <td>4.0</td>\n",
       "      <td>2.0</td>\n",
       "      <td>2.0</td>\n",
       "      <td>5.0</td>\n",
       "      <td>1.0</td>\n",
       "      <td>1.0</td>\n",
       "      <td>18 - 34 Years</td>\n",
       "      <td>College Graduate</td>\n",
       "      <td>White</td>\n",
       "      <td>Male</td>\n",
       "      <td>&lt;= $75,000, Above Poverty</td>\n",
       "      <td>Not Married</td>\n",
       "      <td>Rent</td>\n",
       "      <td>Employed</td>\n",
       "      <td>MSA, Principle City</td>\n",
       "      <td>1.0</td>\n",
       "      <td>0.0</td>\n",
       "      <td>0</td>\n",
       "    </tr>\n",
       "    <tr>\n",
       "      <th>26704</th>\n",
       "      <td>26704</td>\n",
       "      <td>2.0</td>\n",
       "      <td>2.0</td>\n",
       "      <td>0.0</td>\n",
       "      <td>1.0</td>\n",
       "      <td>1.0</td>\n",
       "      <td>1.0</td>\n",
       "      <td>1.0</td>\n",
       "      <td>0.0</td>\n",
       "      <td>1.0</td>\n",
       "      <td>0.0</td>\n",
       "      <td>0.0</td>\n",
       "      <td>0.0</td>\n",
       "      <td>0.0</td>\n",
       "      <td>0.0</td>\n",
       "      <td>NaN</td>\n",
       "      <td>4.0</td>\n",
       "      <td>4.0</td>\n",
       "      <td>2.0</td>\n",
       "      <td>5.0</td>\n",
       "      <td>4.0</td>\n",
       "      <td>2.0</td>\n",
       "      <td>55 - 64 Years</td>\n",
       "      <td>Some College</td>\n",
       "      <td>White</td>\n",
       "      <td>Female</td>\n",
       "      <td>NaN</td>\n",
       "      <td>Not Married</td>\n",
       "      <td>Own</td>\n",
       "      <td>NaN</td>\n",
       "      <td>MSA, Not Principle  City</td>\n",
       "      <td>0.0</td>\n",
       "      <td>0.0</td>\n",
       "      <td>0</td>\n",
       "    </tr>\n",
       "    <tr>\n",
       "      <th>26705</th>\n",
       "      <td>26705</td>\n",
       "      <td>1.0</td>\n",
       "      <td>1.0</td>\n",
       "      <td>0.0</td>\n",
       "      <td>0.0</td>\n",
       "      <td>0.0</td>\n",
       "      <td>0.0</td>\n",
       "      <td>0.0</td>\n",
       "      <td>0.0</td>\n",
       "      <td>NaN</td>\n",
       "      <td>0.0</td>\n",
       "      <td>0.0</td>\n",
       "      <td>0.0</td>\n",
       "      <td>0.0</td>\n",
       "      <td>0.0</td>\n",
       "      <td>0.0</td>\n",
       "      <td>3.0</td>\n",
       "      <td>1.0</td>\n",
       "      <td>2.0</td>\n",
       "      <td>2.0</td>\n",
       "      <td>1.0</td>\n",
       "      <td>2.0</td>\n",
       "      <td>18 - 34 Years</td>\n",
       "      <td>Some College</td>\n",
       "      <td>Hispanic</td>\n",
       "      <td>Female</td>\n",
       "      <td>&lt;= $75,000, Above Poverty</td>\n",
       "      <td>Married</td>\n",
       "      <td>Rent</td>\n",
       "      <td>Employed</td>\n",
       "      <td>Non-MSA</td>\n",
       "      <td>1.0</td>\n",
       "      <td>0.0</td>\n",
       "      <td>0</td>\n",
       "    </tr>\n",
       "    <tr>\n",
       "      <th>26706</th>\n",
       "      <td>26706</td>\n",
       "      <td>0.0</td>\n",
       "      <td>0.0</td>\n",
       "      <td>0.0</td>\n",
       "      <td>1.0</td>\n",
       "      <td>0.0</td>\n",
       "      <td>0.0</td>\n",
       "      <td>0.0</td>\n",
       "      <td>0.0</td>\n",
       "      <td>0.0</td>\n",
       "      <td>0.0</td>\n",
       "      <td>0.0</td>\n",
       "      <td>0.0</td>\n",
       "      <td>0.0</td>\n",
       "      <td>0.0</td>\n",
       "      <td>1.0</td>\n",
       "      <td>5.0</td>\n",
       "      <td>1.0</td>\n",
       "      <td>1.0</td>\n",
       "      <td>5.0</td>\n",
       "      <td>1.0</td>\n",
       "      <td>1.0</td>\n",
       "      <td>65+ Years</td>\n",
       "      <td>Some College</td>\n",
       "      <td>White</td>\n",
       "      <td>Male</td>\n",
       "      <td>&lt;= $75,000, Above Poverty</td>\n",
       "      <td>Married</td>\n",
       "      <td>Own</td>\n",
       "      <td>Not in Labor Force</td>\n",
       "      <td>MSA, Principle City</td>\n",
       "      <td>1.0</td>\n",
       "      <td>0.0</td>\n",
       "      <td>0</td>\n",
       "    </tr>\n",
       "  </tbody>\n",
       "</table>\n",
       "<p>26707 rows × 34 columns</p>\n",
       "</div>"
      ],
      "text/plain": [
       "       unique_id  h1n1_worry  ...  no_of_children  h1n1_vaccine\n",
       "0              0         1.0  ...             0.0             0\n",
       "1              1         3.0  ...             0.0             0\n",
       "2              2         1.0  ...             0.0             0\n",
       "3              3         1.0  ...             0.0             0\n",
       "4              4         2.0  ...             0.0             0\n",
       "...          ...         ...  ...             ...           ...\n",
       "26702      26702         2.0  ...             0.0             0\n",
       "26703      26703         1.0  ...             0.0             0\n",
       "26704      26704         2.0  ...             0.0             0\n",
       "26705      26705         1.0  ...             0.0             0\n",
       "26706      26706         0.0  ...             0.0             0\n",
       "\n",
       "[26707 rows x 34 columns]"
      ]
     },
     "execution_count": 2,
     "metadata": {
      "tags": []
     },
     "output_type": "execute_result"
    }
   ],
   "source": [
    "df = pd.read_csv(\"h1n1_vaccine_prediction.csv\")\n",
    "df"
   ]
  },
  {
   "cell_type": "code",
   "execution_count": null,
   "metadata": {
    "colab": {
     "base_uri": "https://localhost:8080/"
    },
    "id": "unSlVj_GPihN",
    "outputId": "771646cc-5b82-40b6-c764-38341668e76d"
   },
   "outputs": [
    {
     "data": {
      "text/plain": [
       "MSA, Not Principle  City    11645\n",
       "MSA, Principle City          7864\n",
       "Non-MSA                      7198\n",
       "Name: census_msa, dtype: int64"
      ]
     },
     "execution_count": 3,
     "metadata": {
      "tags": []
     },
     "output_type": "execute_result"
    }
   ],
   "source": [
    "df['census_msa'].value_counts()"
   ]
  },
  {
   "cell_type": "code",
   "execution_count": null,
   "metadata": {
    "colab": {
     "base_uri": "https://localhost:8080/"
    },
    "id": "FyPBzZLDNzur",
    "outputId": "5cbbd8b3-73d2-4bc6-9395-71fb8f04ed0b"
   },
   "outputs": [
    {
     "name": "stdout",
     "output_type": "stream",
     "text": [
      "<class 'pandas.core.frame.DataFrame'>\n",
      "RangeIndex: 26707 entries, 0 to 26706\n",
      "Data columns (total 34 columns):\n",
      " #   Column                     Non-Null Count  Dtype  \n",
      "---  ------                     --------------  -----  \n",
      " 0   unique_id                  26707 non-null  int64  \n",
      " 1   h1n1_worry                 26615 non-null  float64\n",
      " 2   h1n1_awareness             26591 non-null  float64\n",
      " 3   antiviral_medication       26636 non-null  float64\n",
      " 4   contact_avoidance          26499 non-null  float64\n",
      " 5   bought_face_mask           26688 non-null  float64\n",
      " 6   wash_hands_frequently      26665 non-null  float64\n",
      " 7   avoid_large_gatherings     26620 non-null  float64\n",
      " 8   reduced_outside_home_cont  26625 non-null  float64\n",
      " 9   avoid_touch_face           26579 non-null  float64\n",
      " 10  dr_recc_h1n1_vacc          24547 non-null  float64\n",
      " 11  dr_recc_seasonal_vacc      24547 non-null  float64\n",
      " 12  chronic_medic_condition    25736 non-null  float64\n",
      " 13  cont_child_undr_6_mnths    25887 non-null  float64\n",
      " 14  is_health_worker           25903 non-null  float64\n",
      " 15  has_health_insur           14433 non-null  float64\n",
      " 16  is_h1n1_vacc_effective     26316 non-null  float64\n",
      " 17  is_h1n1_risky              26319 non-null  float64\n",
      " 18  sick_from_h1n1_vacc        26312 non-null  float64\n",
      " 19  is_seas_vacc_effective     26245 non-null  float64\n",
      " 20  is_seas_risky              26193 non-null  float64\n",
      " 21  sick_from_seas_vacc        26170 non-null  float64\n",
      " 22  age_bracket                26707 non-null  object \n",
      " 23  qualification              25300 non-null  object \n",
      " 24  race                       26707 non-null  object \n",
      " 25  sex                        26707 non-null  object \n",
      " 26  income_level               22284 non-null  object \n",
      " 27  marital_status             25299 non-null  object \n",
      " 28  housing_status             24665 non-null  object \n",
      " 29  employment                 25244 non-null  object \n",
      " 30  census_msa                 26707 non-null  object \n",
      " 31  no_of_adults               26458 non-null  float64\n",
      " 32  no_of_children             26458 non-null  float64\n",
      " 33  h1n1_vaccine               26707 non-null  int64  \n",
      "dtypes: float64(23), int64(2), object(9)\n",
      "memory usage: 6.9+ MB\n"
     ]
    }
   ],
   "source": [
    "df.info()"
   ]
  },
  {
   "cell_type": "code",
   "execution_count": null,
   "metadata": {
    "colab": {
     "base_uri": "https://localhost:8080/"
    },
    "id": "z5Pm4NMuN6pp",
    "outputId": "fd0539ed-b9c3-4a75-f302-b340a62e7f31"
   },
   "outputs": [
    {
     "data": {
      "text/plain": [
       "Index(['unique_id', 'h1n1_worry', 'h1n1_awareness', 'antiviral_medication',\n",
       "       'contact_avoidance', 'bought_face_mask', 'wash_hands_frequently',\n",
       "       'avoid_large_gatherings', 'reduced_outside_home_cont',\n",
       "       'avoid_touch_face', 'dr_recc_h1n1_vacc', 'dr_recc_seasonal_vacc',\n",
       "       'chronic_medic_condition', 'cont_child_undr_6_mnths',\n",
       "       'is_health_worker', 'has_health_insur', 'is_h1n1_vacc_effective',\n",
       "       'is_h1n1_risky', 'sick_from_h1n1_vacc', 'is_seas_vacc_effective',\n",
       "       'is_seas_risky', 'sick_from_seas_vacc', 'age_bracket', 'qualification',\n",
       "       'race', 'sex', 'income_level', 'marital_status', 'housing_status',\n",
       "       'employment', 'census_msa', 'no_of_adults', 'no_of_children',\n",
       "       'h1n1_vaccine'],\n",
       "      dtype='object')"
      ]
     },
     "execution_count": 5,
     "metadata": {
      "tags": []
     },
     "output_type": "execute_result"
    }
   ],
   "source": [
    "df.columns"
   ]
  },
  {
   "cell_type": "markdown",
   "metadata": {
    "id": "5M6_yz7KIZr-"
   },
   "source": [
    "# ***One - Hot Encoding***"
   ]
  },
  {
   "cell_type": "code",
   "execution_count": null,
   "metadata": {
    "colab": {
     "base_uri": "https://localhost:8080/"
    },
    "id": "7cHXzVABN6z7",
    "outputId": "238be016-9ff8-4ecc-c70d-426fc6c689f9"
   },
   "outputs": [
    {
     "name": "stdout",
     "output_type": "stream",
     "text": [
      "<class 'pandas.core.frame.DataFrame'>\n",
      "RangeIndex: 26707 entries, 0 to 26706\n",
      "Data columns (total 38 columns):\n",
      " #   Column                     Non-Null Count  Dtype  \n",
      "---  ------                     --------------  -----  \n",
      " 0   unique_id                  26707 non-null  int64  \n",
      " 1   h1n1_worry                 26615 non-null  float64\n",
      " 2   h1n1_awareness             26591 non-null  float64\n",
      " 3   antiviral_medication       26636 non-null  float64\n",
      " 4   contact_avoidance          26499 non-null  float64\n",
      " 5   bought_face_mask           26688 non-null  float64\n",
      " 6   wash_hands_frequently      26665 non-null  float64\n",
      " 7   avoid_large_gatherings     26620 non-null  float64\n",
      " 8   reduced_outside_home_cont  26625 non-null  float64\n",
      " 9   avoid_touch_face           26579 non-null  float64\n",
      " 10  dr_recc_h1n1_vacc          24547 non-null  float64\n",
      " 11  dr_recc_seasonal_vacc      24547 non-null  float64\n",
      " 12  chronic_medic_condition    25736 non-null  float64\n",
      " 13  cont_child_undr_6_mnths    25887 non-null  float64\n",
      " 14  is_health_worker           25903 non-null  float64\n",
      " 15  has_health_insur           14433 non-null  float64\n",
      " 16  is_h1n1_vacc_effective     26316 non-null  float64\n",
      " 17  is_h1n1_risky              26319 non-null  float64\n",
      " 18  sick_from_h1n1_vacc        26312 non-null  float64\n",
      " 19  is_seas_vacc_effective     26245 non-null  float64\n",
      " 20  is_seas_risky              26193 non-null  float64\n",
      " 21  sick_from_seas_vacc        26170 non-null  float64\n",
      " 22  qualification              25300 non-null  object \n",
      " 23  race                       26707 non-null  object \n",
      " 24  sex                        26707 non-null  object \n",
      " 25  income_level               22284 non-null  object \n",
      " 26  marital_status             25299 non-null  object \n",
      " 27  housing_status             24665 non-null  object \n",
      " 28  employment                 25244 non-null  object \n",
      " 29  census_msa                 26707 non-null  object \n",
      " 30  no_of_adults               26458 non-null  float64\n",
      " 31  no_of_children             26458 non-null  float64\n",
      " 32  h1n1_vaccine               26707 non-null  int64  \n",
      " 33  18 - 34 Years              26707 non-null  uint8  \n",
      " 34  35 - 44 Years              26707 non-null  uint8  \n",
      " 35  45 - 54 Years              26707 non-null  uint8  \n",
      " 36  55 - 64 Years              26707 non-null  uint8  \n",
      " 37  65+ Years                  26707 non-null  uint8  \n",
      "dtypes: float64(23), int64(2), object(8), uint8(5)\n",
      "memory usage: 6.9+ MB\n"
     ]
    }
   ],
   "source": [
    "add_col = pd.get_dummies(df['age_bracket'])\n",
    "df.drop(['age_bracket'], axis = 1 ,inplace = True)\n",
    "df = df.join(add_col)\n",
    "df.info()"
   ]
  },
  {
   "cell_type": "code",
   "execution_count": null,
   "metadata": {
    "colab": {
     "base_uri": "https://localhost:8080/"
    },
    "id": "fbw3Bbi4Oq0f",
    "outputId": "4dd6085e-ff3c-4575-a9cc-f81554757488"
   },
   "outputs": [
    {
     "name": "stdout",
     "output_type": "stream",
     "text": [
      "<class 'pandas.core.frame.DataFrame'>\n",
      "RangeIndex: 26707 entries, 0 to 26706\n",
      "Data columns (total 41 columns):\n",
      " #   Column                     Non-Null Count  Dtype  \n",
      "---  ------                     --------------  -----  \n",
      " 0   unique_id                  26707 non-null  int64  \n",
      " 1   h1n1_worry                 26615 non-null  float64\n",
      " 2   h1n1_awareness             26591 non-null  float64\n",
      " 3   antiviral_medication       26636 non-null  float64\n",
      " 4   contact_avoidance          26499 non-null  float64\n",
      " 5   bought_face_mask           26688 non-null  float64\n",
      " 6   wash_hands_frequently      26665 non-null  float64\n",
      " 7   avoid_large_gatherings     26620 non-null  float64\n",
      " 8   reduced_outside_home_cont  26625 non-null  float64\n",
      " 9   avoid_touch_face           26579 non-null  float64\n",
      " 10  dr_recc_h1n1_vacc          24547 non-null  float64\n",
      " 11  dr_recc_seasonal_vacc      24547 non-null  float64\n",
      " 12  chronic_medic_condition    25736 non-null  float64\n",
      " 13  cont_child_undr_6_mnths    25887 non-null  float64\n",
      " 14  is_health_worker           25903 non-null  float64\n",
      " 15  has_health_insur           14433 non-null  float64\n",
      " 16  is_h1n1_vacc_effective     26316 non-null  float64\n",
      " 17  is_h1n1_risky              26319 non-null  float64\n",
      " 18  sick_from_h1n1_vacc        26312 non-null  float64\n",
      " 19  is_seas_vacc_effective     26245 non-null  float64\n",
      " 20  is_seas_risky              26193 non-null  float64\n",
      " 21  sick_from_seas_vacc        26170 non-null  float64\n",
      " 22  qualification              25300 non-null  object \n",
      " 23  sex                        26707 non-null  object \n",
      " 24  income_level               22284 non-null  object \n",
      " 25  marital_status             25299 non-null  object \n",
      " 26  housing_status             24665 non-null  object \n",
      " 27  employment                 25244 non-null  object \n",
      " 28  census_msa                 26707 non-null  object \n",
      " 29  no_of_adults               26458 non-null  float64\n",
      " 30  no_of_children             26458 non-null  float64\n",
      " 31  h1n1_vaccine               26707 non-null  int64  \n",
      " 32  18 - 34 Years              26707 non-null  uint8  \n",
      " 33  35 - 44 Years              26707 non-null  uint8  \n",
      " 34  45 - 54 Years              26707 non-null  uint8  \n",
      " 35  55 - 64 Years              26707 non-null  uint8  \n",
      " 36  65+ Years                  26707 non-null  uint8  \n",
      " 37  Black                      26707 non-null  uint8  \n",
      " 38  Hispanic                   26707 non-null  uint8  \n",
      " 39  Other or Multiple          26707 non-null  uint8  \n",
      " 40  White                      26707 non-null  uint8  \n",
      "dtypes: float64(23), int64(2), object(7), uint8(9)\n",
      "memory usage: 6.7+ MB\n"
     ]
    }
   ],
   "source": [
    "add_col = pd.get_dummies(df['race'])\n",
    "df.drop(['race'], axis = 1 ,inplace = True)\n",
    "df = df.join(add_col)\n",
    "df.info()"
   ]
  },
  {
   "cell_type": "code",
   "execution_count": null,
   "metadata": {
    "colab": {
     "base_uri": "https://localhost:8080/"
    },
    "id": "nDmpVibCPFrV",
    "outputId": "3095d573-0003-4ad1-dbe8-7cfa1a3705dc"
   },
   "outputs": [
    {
     "name": "stdout",
     "output_type": "stream",
     "text": [
      "<class 'pandas.core.frame.DataFrame'>\n",
      "RangeIndex: 26707 entries, 0 to 26706\n",
      "Data columns (total 39 columns):\n",
      " #   Column                     Non-Null Count  Dtype  \n",
      "---  ------                     --------------  -----  \n",
      " 0   unique_id                  26707 non-null  int64  \n",
      " 1   h1n1_worry                 26615 non-null  float64\n",
      " 2   h1n1_awareness             26591 non-null  float64\n",
      " 3   antiviral_medication       26636 non-null  float64\n",
      " 4   contact_avoidance          26499 non-null  float64\n",
      " 5   bought_face_mask           26688 non-null  float64\n",
      " 6   wash_hands_frequently      26665 non-null  float64\n",
      " 7   avoid_large_gatherings     26620 non-null  float64\n",
      " 8   reduced_outside_home_cont  26625 non-null  float64\n",
      " 9   avoid_touch_face           26579 non-null  float64\n",
      " 10  dr_recc_h1n1_vacc          24547 non-null  float64\n",
      " 11  dr_recc_seasonal_vacc      24547 non-null  float64\n",
      " 12  chronic_medic_condition    25736 non-null  float64\n",
      " 13  cont_child_undr_6_mnths    25887 non-null  float64\n",
      " 14  is_health_worker           25903 non-null  float64\n",
      " 15  has_health_insur           14433 non-null  float64\n",
      " 16  is_h1n1_vacc_effective     26316 non-null  float64\n",
      " 17  is_h1n1_risky              26319 non-null  float64\n",
      " 18  sick_from_h1n1_vacc        26312 non-null  float64\n",
      " 19  is_seas_vacc_effective     26245 non-null  float64\n",
      " 20  is_seas_risky              26193 non-null  float64\n",
      " 21  sick_from_seas_vacc        26170 non-null  float64\n",
      " 22  sex                        26707 non-null  object \n",
      " 23  income_level               22284 non-null  object \n",
      " 24  marital_status             25299 non-null  object \n",
      " 25  employment                 25244 non-null  object \n",
      " 26  census_msa                 26707 non-null  object \n",
      " 27  no_of_adults               26458 non-null  float64\n",
      " 28  no_of_children             26458 non-null  float64\n",
      " 29  h1n1_vaccine               26707 non-null  int64  \n",
      " 30  18 - 34 Years              26707 non-null  uint8  \n",
      " 31  35 - 44 Years              26707 non-null  uint8  \n",
      " 32  45 - 54 Years              26707 non-null  uint8  \n",
      " 33  55 - 64 Years              26707 non-null  uint8  \n",
      " 34  65+ Years                  26707 non-null  uint8  \n",
      " 35  Black                      26707 non-null  uint8  \n",
      " 36  Hispanic                   26707 non-null  uint8  \n",
      " 37  Other or Multiple          26707 non-null  uint8  \n",
      " 38  White                      26707 non-null  uint8  \n",
      "dtypes: float64(23), int64(2), object(5), uint8(9)\n",
      "memory usage: 6.3+ MB\n"
     ]
    }
   ],
   "source": [
    "df.info()"
   ]
  },
  {
   "cell_type": "code",
   "execution_count": null,
   "metadata": {
    "colab": {
     "base_uri": "https://localhost:8080/"
    },
    "id": "7PUdWJ2iPFuV",
    "outputId": "dd72e162-d472-4fac-e3c7-5311cb41513e"
   },
   "outputs": [
    {
     "name": "stdout",
     "output_type": "stream",
     "text": [
      "<class 'pandas.core.frame.DataFrame'>\n",
      "RangeIndex: 26707 entries, 0 to 26706\n",
      "Data columns (total 42 columns):\n",
      " #   Column                     Non-Null Count  Dtype  \n",
      "---  ------                     --------------  -----  \n",
      " 0   unique_id                  26707 non-null  int64  \n",
      " 1   h1n1_worry                 26615 non-null  float64\n",
      " 2   h1n1_awareness             26591 non-null  float64\n",
      " 3   antiviral_medication       26636 non-null  float64\n",
      " 4   contact_avoidance          26499 non-null  float64\n",
      " 5   bought_face_mask           26688 non-null  float64\n",
      " 6   wash_hands_frequently      26665 non-null  float64\n",
      " 7   avoid_large_gatherings     26620 non-null  float64\n",
      " 8   reduced_outside_home_cont  26625 non-null  float64\n",
      " 9   avoid_touch_face           26579 non-null  float64\n",
      " 10  dr_recc_h1n1_vacc          24547 non-null  float64\n",
      " 11  dr_recc_seasonal_vacc      24547 non-null  float64\n",
      " 12  chronic_medic_condition    25736 non-null  float64\n",
      " 13  cont_child_undr_6_mnths    25887 non-null  float64\n",
      " 14  is_health_worker           25903 non-null  float64\n",
      " 15  has_health_insur           14433 non-null  float64\n",
      " 16  is_h1n1_vacc_effective     26316 non-null  float64\n",
      " 17  is_h1n1_risky              26319 non-null  float64\n",
      " 18  sick_from_h1n1_vacc        26312 non-null  float64\n",
      " 19  is_seas_vacc_effective     26245 non-null  float64\n",
      " 20  is_seas_risky              26193 non-null  float64\n",
      " 21  sick_from_seas_vacc        26170 non-null  float64\n",
      " 22  sex                        26707 non-null  object \n",
      " 23  income_level               22284 non-null  object \n",
      " 24  marital_status             25299 non-null  object \n",
      " 25  census_msa                 26707 non-null  object \n",
      " 26  no_of_adults               26458 non-null  float64\n",
      " 27  no_of_children             26458 non-null  float64\n",
      " 28  h1n1_vaccine               26707 non-null  int64  \n",
      " 29  18 - 34 Years              26707 non-null  uint8  \n",
      " 30  35 - 44 Years              26707 non-null  uint8  \n",
      " 31  45 - 54 Years              26707 non-null  uint8  \n",
      " 32  55 - 64 Years              26707 non-null  uint8  \n",
      " 33  65+ Years                  26707 non-null  uint8  \n",
      " 34  Black                      26707 non-null  uint8  \n",
      " 35  Hispanic                   26707 non-null  uint8  \n",
      " 36  Other or Multiple          26707 non-null  uint8  \n",
      " 37  White                      26707 non-null  uint8  \n",
      " 38  0                          26707 non-null  uint8  \n",
      " 39  Employed                   26707 non-null  uint8  \n",
      " 40  Not in Labor Force         26707 non-null  uint8  \n",
      " 41  Unemployed                 26707 non-null  uint8  \n",
      "dtypes: float64(23), int64(2), object(4), uint8(13)\n",
      "memory usage: 6.2+ MB\n"
     ]
    }
   ],
   "source": [
    "df['employment'] = df['employment'].replace(\"None\", np.nan)\n",
    "df['employment'] = df['employment'].fillna(\"0\")\n",
    "add_col = pd.get_dummies(df['employment'])\n",
    "df.drop(['employment'], axis = 1 ,inplace = True)\n",
    "df = df.join(add_col)\n",
    "df.info()\n"
   ]
  },
  {
   "cell_type": "markdown",
   "metadata": {
    "id": "IpRDDSrGImic"
   },
   "source": [
    "# ***Label Encoding***"
   ]
  },
  {
   "cell_type": "code",
   "execution_count": null,
   "metadata": {
    "colab": {
     "base_uri": "https://localhost:8080/"
    },
    "id": "46iDIfKCQVj4",
    "outputId": "f6eee1ed-0286-4ec7-837b-c38f88a19f4d"
   },
   "outputs": [
    {
     "name": "stdout",
     "output_type": "stream",
     "text": [
      "<class 'pandas.core.frame.DataFrame'>\n",
      "RangeIndex: 26707 entries, 0 to 26706\n",
      "Data columns (total 42 columns):\n",
      " #   Column                     Non-Null Count  Dtype  \n",
      "---  ------                     --------------  -----  \n",
      " 0   unique_id                  26707 non-null  int64  \n",
      " 1   h1n1_worry                 26615 non-null  float64\n",
      " 2   h1n1_awareness             26591 non-null  float64\n",
      " 3   antiviral_medication       26636 non-null  float64\n",
      " 4   contact_avoidance          26499 non-null  float64\n",
      " 5   bought_face_mask           26688 non-null  float64\n",
      " 6   wash_hands_frequently      26665 non-null  float64\n",
      " 7   avoid_large_gatherings     26620 non-null  float64\n",
      " 8   reduced_outside_home_cont  26625 non-null  float64\n",
      " 9   avoid_touch_face           26579 non-null  float64\n",
      " 10  dr_recc_h1n1_vacc          24547 non-null  float64\n",
      " 11  dr_recc_seasonal_vacc      24547 non-null  float64\n",
      " 12  chronic_medic_condition    25736 non-null  float64\n",
      " 13  cont_child_undr_6_mnths    25887 non-null  float64\n",
      " 14  is_health_worker           25903 non-null  float64\n",
      " 15  has_health_insur           14433 non-null  float64\n",
      " 16  is_h1n1_vacc_effective     26316 non-null  float64\n",
      " 17  is_h1n1_risky              26319 non-null  float64\n",
      " 18  sick_from_h1n1_vacc        26312 non-null  float64\n",
      " 19  is_seas_vacc_effective     26245 non-null  float64\n",
      " 20  is_seas_risky              26193 non-null  float64\n",
      " 21  sick_from_seas_vacc        26170 non-null  float64\n",
      " 22  sex                        26707 non-null  int64  \n",
      " 23  income_level               26707 non-null  int64  \n",
      " 24  marital_status             26707 non-null  int64  \n",
      " 25  census_msa                 26707 non-null  int64  \n",
      " 26  no_of_adults               26458 non-null  float64\n",
      " 27  no_of_children             26458 non-null  float64\n",
      " 28  h1n1_vaccine               26707 non-null  int64  \n",
      " 29  18 - 34 Years              26707 non-null  uint8  \n",
      " 30  35 - 44 Years              26707 non-null  uint8  \n",
      " 31  45 - 54 Years              26707 non-null  uint8  \n",
      " 32  55 - 64 Years              26707 non-null  uint8  \n",
      " 33  65+ Years                  26707 non-null  uint8  \n",
      " 34  Black                      26707 non-null  uint8  \n",
      " 35  Hispanic                   26707 non-null  uint8  \n",
      " 36  Other or Multiple          26707 non-null  uint8  \n",
      " 37  White                      26707 non-null  uint8  \n",
      " 38  0                          26707 non-null  uint8  \n",
      " 39  Employed                   26707 non-null  uint8  \n",
      " 40  Not in Labor Force         26707 non-null  uint8  \n",
      " 41  Unemployed                 26707 non-null  uint8  \n",
      "dtypes: float64(23), int64(6), uint8(13)\n",
      "memory usage: 6.2 MB\n"
     ]
    }
   ],
   "source": [
    "#Encoding - To convert any alphabte data into numbers\n",
    "from sklearn.preprocessing import LabelEncoder\n",
    "\n",
    "le = LabelEncoder()\n",
    "\n",
    "df['sex'] = le.fit_transform(df['sex'])\n",
    "\n",
    "df['census_msa'] = le.fit_transform(df['census_msa'])\n",
    "\n",
    "df['income_level'] = df['income_level'].replace(\"None\", np.nan)\n",
    "df['income_level'] = df['income_level'].fillna(str(np.mean))\n",
    "df['income_level'] = le.fit_transform(df['income_level'])\n",
    "\n",
    "df['marital_status'] = df['marital_status'].replace(\"None\", np.nan)\n",
    "df['marital_status'] = df['marital_status'].fillna(\"0\")\n",
    "df['marital_status'] = le.fit_transform(df['marital_status'])\n",
    "df.info()"
   ]
  },
  {
   "cell_type": "code",
   "execution_count": null,
   "metadata": {
    "colab": {
     "base_uri": "https://localhost:8080/"
    },
    "id": "JrEdQzY4QyxG",
    "outputId": "bfab7340-295c-49f5-8249-7b7a67d0365f"
   },
   "outputs": [
    {
     "name": "stdout",
     "output_type": "stream",
     "text": [
      "<class 'pandas.core.frame.DataFrame'>\n",
      "RangeIndex: 26707 entries, 0 to 26706\n",
      "Data columns (total 42 columns):\n",
      " #   Column                     Non-Null Count  Dtype  \n",
      "---  ------                     --------------  -----  \n",
      " 0   unique_id                  26707 non-null  int64  \n",
      " 1   h1n1_worry                 26707 non-null  float64\n",
      " 2   h1n1_awareness             26707 non-null  float64\n",
      " 3   antiviral_medication       26707 non-null  float64\n",
      " 4   contact_avoidance          26707 non-null  float64\n",
      " 5   bought_face_mask           26707 non-null  float64\n",
      " 6   wash_hands_frequently      26707 non-null  float64\n",
      " 7   avoid_large_gatherings     26707 non-null  float64\n",
      " 8   reduced_outside_home_cont  26707 non-null  float64\n",
      " 9   avoid_touch_face           26707 non-null  float64\n",
      " 10  dr_recc_h1n1_vacc          26707 non-null  float64\n",
      " 11  dr_recc_seasonal_vacc      26707 non-null  float64\n",
      " 12  chronic_medic_condition    26707 non-null  float64\n",
      " 13  cont_child_undr_6_mnths    26707 non-null  float64\n",
      " 14  is_health_worker           25903 non-null  float64\n",
      " 15  has_health_insur           14433 non-null  float64\n",
      " 16  is_h1n1_vacc_effective     26316 non-null  float64\n",
      " 17  is_h1n1_risky              26319 non-null  float64\n",
      " 18  sick_from_h1n1_vacc        26312 non-null  float64\n",
      " 19  is_seas_vacc_effective     26245 non-null  float64\n",
      " 20  is_seas_risky              26193 non-null  float64\n",
      " 21  sick_from_seas_vacc        26170 non-null  float64\n",
      " 22  sex                        26707 non-null  int64  \n",
      " 23  income_level               26707 non-null  int64  \n",
      " 24  marital_status             26707 non-null  int64  \n",
      " 25  census_msa                 26707 non-null  int64  \n",
      " 26  no_of_adults               26458 non-null  float64\n",
      " 27  no_of_children             26458 non-null  float64\n",
      " 28  h1n1_vaccine               26707 non-null  int64  \n",
      " 29  18 - 34 Years              26707 non-null  uint8  \n",
      " 30  35 - 44 Years              26707 non-null  uint8  \n",
      " 31  45 - 54 Years              26707 non-null  uint8  \n",
      " 32  55 - 64 Years              26707 non-null  uint8  \n",
      " 33  65+ Years                  26707 non-null  uint8  \n",
      " 34  Black                      26707 non-null  uint8  \n",
      " 35  Hispanic                   26707 non-null  uint8  \n",
      " 36  Other or Multiple          26707 non-null  uint8  \n",
      " 37  White                      26707 non-null  uint8  \n",
      " 38  0                          26707 non-null  uint8  \n",
      " 39  Employed                   26707 non-null  uint8  \n",
      " 40  Not in Labor Force         26707 non-null  uint8  \n",
      " 41  Unemployed                 26707 non-null  uint8  \n",
      "dtypes: float64(23), int64(6), uint8(13)\n",
      "memory usage: 6.2 MB\n"
     ]
    }
   ],
   "source": [
    "df['h1n1_worry'] = df['h1n1_worry'].replace(\"None\", np.nan)\n",
    "df['h1n1_worry'] = df['h1n1_worry'].fillna(0)\n",
    "df['h1n1_worry'] = pd.to_numeric(df['h1n1_worry'])\n",
    "\n",
    "df['h1n1_awareness'] = df['h1n1_awareness'].replace(\"None\", np.nan)\n",
    "df['h1n1_awareness'] = df['h1n1_awareness'].fillna(0)\n",
    "df['h1n1_awareness'] = pd.to_numeric(df['h1n1_awareness'])\n",
    "\n",
    "df['antiviral_medication'] = df['antiviral_medication'].replace(\"None\", np.nan)\n",
    "df['antiviral_medication'] = df['antiviral_medication'].fillna(0)\n",
    "df['antiviral_medication'] = pd.to_numeric(df['antiviral_medication'])\n",
    "\n",
    "df['contact_avoidance'] = df['contact_avoidance'].replace(\"None\", np.nan)\n",
    "df['contact_avoidance'] = df['contact_avoidance'].fillna(0)\n",
    "df['contact_avoidance'] = pd.to_numeric(df['contact_avoidance'])\n",
    "\n",
    "df['bought_face_mask'] = df['bought_face_mask'].replace(\"None\", np.nan)\n",
    "df['bought_face_mask'] = df['bought_face_mask'].fillna(0)\n",
    "df['bought_face_mask'] = pd.to_numeric(df['bought_face_mask'])\n",
    "\n",
    "df['wash_hands_frequently'] = df['wash_hands_frequently'].replace(\"None\", np.nan)\n",
    "df['wash_hands_frequently'] = df['wash_hands_frequently'].fillna(0)\n",
    "df['wash_hands_frequently'] = pd.to_numeric(df['wash_hands_frequently'])\n",
    "\n",
    "df['avoid_large_gatherings'] = df['avoid_large_gatherings'].replace(\"None\", np.nan)\n",
    "df['avoid_large_gatherings'] = df['avoid_large_gatherings'].fillna(0)\n",
    "df['avoid_large_gatherings'] = pd.to_numeric(df['avoid_large_gatherings'])\n",
    "\n",
    "df['reduced_outside_home_cont'] = df['reduced_outside_home_cont'].replace(\"None\", np.nan)\n",
    "df['reduced_outside_home_cont'] = df['reduced_outside_home_cont'].fillna(0)\n",
    "df['reduced_outside_home_cont'] = pd.to_numeric(df['reduced_outside_home_cont'])\n",
    "\n",
    "df['avoid_touch_face'] = df['avoid_touch_face'].replace(\"None\", np.nan)\n",
    "df['avoid_touch_face'] = df['avoid_touch_face'].fillna(0)\n",
    "df['avoid_touch_face'] = pd.to_numeric(df['avoid_touch_face'])\n",
    "\n",
    "df['dr_recc_h1n1_vacc'] = df['dr_recc_h1n1_vacc'].replace(\"None\", np.nan)\n",
    "df['dr_recc_h1n1_vacc'] = df['dr_recc_h1n1_vacc'].fillna(0)\n",
    "df['dr_recc_h1n1_vacc'] = pd.to_numeric(df['dr_recc_h1n1_vacc'])\n",
    "\n",
    "df['dr_recc_seasonal_vacc'] = df['dr_recc_seasonal_vacc'].replace(\"None\", np.nan)\n",
    "df['dr_recc_seasonal_vacc'] = df['dr_recc_seasonal_vacc'].fillna(0)\n",
    "df['dr_recc_seasonal_vacc'] = pd.to_numeric(df['dr_recc_seasonal_vacc'])\n",
    "\n",
    "df['chronic_medic_condition'] = df['chronic_medic_condition'].replace(\"None\", np.nan)\n",
    "df['chronic_medic_condition'] = df['chronic_medic_condition'].fillna(0)\n",
    "df['chronic_medic_condition'] = pd.to_numeric(df['chronic_medic_condition'])\n",
    "\n",
    "df['cont_child_undr_6_mnths'] = df['cont_child_undr_6_mnths'].replace(\"None\", np.nan)\n",
    "df['cont_child_undr_6_mnths'] = df['cont_child_undr_6_mnths'].fillna(0)\n",
    "df['cont_child_undr_6_mnths'] = pd.to_numeric(df['cont_child_undr_6_mnths'])\n",
    "\n",
    "df.info()"
   ]
  },
  {
   "cell_type": "code",
   "execution_count": null,
   "metadata": {
    "colab": {
     "base_uri": "https://localhost:8080/"
    },
    "id": "vfd_XhcvRCND",
    "outputId": "135b3087-a242-4402-912f-074a1115693f"
   },
   "outputs": [
    {
     "name": "stdout",
     "output_type": "stream",
     "text": [
      "<class 'pandas.core.frame.DataFrame'>\n",
      "RangeIndex: 26707 entries, 0 to 26706\n",
      "Data columns (total 42 columns):\n",
      " #   Column                     Non-Null Count  Dtype  \n",
      "---  ------                     --------------  -----  \n",
      " 0   unique_id                  26707 non-null  int64  \n",
      " 1   h1n1_worry                 26707 non-null  float64\n",
      " 2   h1n1_awareness             26707 non-null  float64\n",
      " 3   antiviral_medication       26707 non-null  float64\n",
      " 4   contact_avoidance          26707 non-null  float64\n",
      " 5   bought_face_mask           26707 non-null  float64\n",
      " 6   wash_hands_frequently      26707 non-null  float64\n",
      " 7   avoid_large_gatherings     26707 non-null  float64\n",
      " 8   reduced_outside_home_cont  26707 non-null  float64\n",
      " 9   avoid_touch_face           26707 non-null  float64\n",
      " 10  dr_recc_h1n1_vacc          26707 non-null  float64\n",
      " 11  dr_recc_seasonal_vacc      26707 non-null  float64\n",
      " 12  chronic_medic_condition    26707 non-null  float64\n",
      " 13  cont_child_undr_6_mnths    26707 non-null  float64\n",
      " 14  is_health_worker           26707 non-null  float64\n",
      " 15  has_health_insur           26707 non-null  float64\n",
      " 16  is_h1n1_vacc_effective     26707 non-null  float64\n",
      " 17  is_h1n1_risky              26707 non-null  float64\n",
      " 18  sick_from_h1n1_vacc        26707 non-null  float64\n",
      " 19  is_seas_vacc_effective     26707 non-null  float64\n",
      " 20  is_seas_risky              26707 non-null  float64\n",
      " 21  sick_from_seas_vacc        26707 non-null  float64\n",
      " 22  sex                        26707 non-null  int64  \n",
      " 23  income_level               26707 non-null  int64  \n",
      " 24  marital_status             26707 non-null  int64  \n",
      " 25  census_msa                 26707 non-null  int64  \n",
      " 26  no_of_adults               26458 non-null  float64\n",
      " 27  no_of_children             26458 non-null  float64\n",
      " 28  h1n1_vaccine               26707 non-null  int64  \n",
      " 29  18 - 34 Years              26707 non-null  uint8  \n",
      " 30  35 - 44 Years              26707 non-null  uint8  \n",
      " 31  45 - 54 Years              26707 non-null  uint8  \n",
      " 32  55 - 64 Years              26707 non-null  uint8  \n",
      " 33  65+ Years                  26707 non-null  uint8  \n",
      " 34  Black                      26707 non-null  uint8  \n",
      " 35  Hispanic                   26707 non-null  uint8  \n",
      " 36  Other or Multiple          26707 non-null  uint8  \n",
      " 37  White                      26707 non-null  uint8  \n",
      " 38  0                          26707 non-null  uint8  \n",
      " 39  Employed                   26707 non-null  uint8  \n",
      " 40  Not in Labor Force         26707 non-null  uint8  \n",
      " 41  Unemployed                 26707 non-null  uint8  \n",
      "dtypes: float64(23), int64(6), uint8(13)\n",
      "memory usage: 6.2 MB\n"
     ]
    }
   ],
   "source": [
    "df['is_health_worker'] = df['is_health_worker'].replace(\"None\", np.nan)\n",
    "df['is_health_worker'] = df['is_health_worker'].fillna(0)\n",
    "df['is_health_worker'] = pd.to_numeric(df['is_health_worker'])\n",
    "\n",
    "df['has_health_insur'] = df['has_health_insur'].replace(\"None\", np.nan)\n",
    "df['has_health_insur'] = df['has_health_insur'].fillna(0)\n",
    "df['has_health_insur'] = pd.to_numeric(df['has_health_insur'])\n",
    "\n",
    "df['is_h1n1_vacc_effective'] = df['is_h1n1_vacc_effective'].replace(\"None\", np.nan)\n",
    "df['is_h1n1_vacc_effective'] = df['is_h1n1_vacc_effective'].fillna(0)\n",
    "df['is_h1n1_vacc_effective'] = pd.to_numeric(df['is_h1n1_vacc_effective'])\n",
    "\n",
    "df['is_h1n1_risky'] = df['is_h1n1_risky'].replace(\"None\", np.nan)\n",
    "df['is_h1n1_risky'] = df['is_h1n1_risky'].fillna(0)\n",
    "df['is_h1n1_risky'] = pd.to_numeric(df['is_h1n1_risky'])\n",
    "\n",
    "df['sick_from_seas_vacc'] = df['sick_from_seas_vacc'].replace(\"None\", np.nan)\n",
    "df['sick_from_seas_vacc'] = df['sick_from_seas_vacc'].fillna(0)\n",
    "df['sick_from_seas_vacc'] = pd.to_numeric(df['sick_from_seas_vacc'])\n",
    "\n",
    "df['sick_from_h1n1_vacc'] = df['sick_from_h1n1_vacc'].replace(\"None\", np.nan)\n",
    "df['sick_from_h1n1_vacc'] = df['sick_from_h1n1_vacc'].fillna(0)\n",
    "df['sick_from_h1n1_vacc'] = pd.to_numeric(df['sick_from_h1n1_vacc'])\n",
    "\n",
    "df['is_seas_vacc_effective'] = df['is_seas_vacc_effective'].replace(\"None\", np.nan)\n",
    "df['is_seas_vacc_effective'] = df['is_seas_vacc_effective'].fillna(0)\n",
    "df['is_seas_vacc_effective'] = pd.to_numeric(df['is_seas_vacc_effective'])\n",
    "\n",
    "df['is_seas_risky'] = df['is_seas_risky'].replace(\"None\", np.nan)\n",
    "df['is_seas_risky'] = df['is_seas_risky'].fillna(0)\n",
    "df['is_seas_risky'] = pd.to_numeric(df['is_seas_risky'])\n",
    "\n",
    "\n",
    "df.info()"
   ]
  },
  {
   "cell_type": "code",
   "execution_count": null,
   "metadata": {
    "colab": {
     "base_uri": "https://localhost:8080/"
    },
    "id": "wz6iD2CyQzPX",
    "outputId": "22f9ce5d-dc42-42df-8583-161792de7598"
   },
   "outputs": [
    {
     "name": "stdout",
     "output_type": "stream",
     "text": [
      "<class 'pandas.core.frame.DataFrame'>\n",
      "RangeIndex: 26707 entries, 0 to 26706\n",
      "Data columns (total 42 columns):\n",
      " #   Column                     Non-Null Count  Dtype  \n",
      "---  ------                     --------------  -----  \n",
      " 0   unique_id                  26707 non-null  int64  \n",
      " 1   h1n1_worry                 26707 non-null  float64\n",
      " 2   h1n1_awareness             26707 non-null  float64\n",
      " 3   antiviral_medication       26707 non-null  float64\n",
      " 4   contact_avoidance          26707 non-null  float64\n",
      " 5   bought_face_mask           26707 non-null  float64\n",
      " 6   wash_hands_frequently      26707 non-null  float64\n",
      " 7   avoid_large_gatherings     26707 non-null  float64\n",
      " 8   reduced_outside_home_cont  26707 non-null  float64\n",
      " 9   avoid_touch_face           26707 non-null  float64\n",
      " 10  dr_recc_h1n1_vacc          26707 non-null  float64\n",
      " 11  dr_recc_seasonal_vacc      26707 non-null  float64\n",
      " 12  chronic_medic_condition    26707 non-null  float64\n",
      " 13  cont_child_undr_6_mnths    26707 non-null  float64\n",
      " 14  is_health_worker           26707 non-null  float64\n",
      " 15  has_health_insur           26707 non-null  float64\n",
      " 16  is_h1n1_vacc_effective     26707 non-null  float64\n",
      " 17  is_h1n1_risky              26707 non-null  float64\n",
      " 18  sick_from_h1n1_vacc        26707 non-null  float64\n",
      " 19  is_seas_vacc_effective     26707 non-null  float64\n",
      " 20  is_seas_risky              26707 non-null  float64\n",
      " 21  sick_from_seas_vacc        26707 non-null  float64\n",
      " 22  sex                        26707 non-null  int64  \n",
      " 23  income_level               26707 non-null  int64  \n",
      " 24  marital_status             26707 non-null  int64  \n",
      " 25  census_msa                 26707 non-null  int64  \n",
      " 26  no_of_adults               26707 non-null  object \n",
      " 27  no_of_children             26707 non-null  object \n",
      " 28  h1n1_vaccine               26707 non-null  int64  \n",
      " 29  18 - 34 Years              26707 non-null  uint8  \n",
      " 30  35 - 44 Years              26707 non-null  uint8  \n",
      " 31  45 - 54 Years              26707 non-null  uint8  \n",
      " 32  55 - 64 Years              26707 non-null  uint8  \n",
      " 33  65+ Years                  26707 non-null  uint8  \n",
      " 34  Black                      26707 non-null  uint8  \n",
      " 35  Hispanic                   26707 non-null  uint8  \n",
      " 36  Other or Multiple          26707 non-null  uint8  \n",
      " 37  White                      26707 non-null  uint8  \n",
      " 38  0                          26707 non-null  uint8  \n",
      " 39  Employed                   26707 non-null  uint8  \n",
      " 40  Not in Labor Force         26707 non-null  uint8  \n",
      " 41  Unemployed                 26707 non-null  uint8  \n",
      "dtypes: float64(21), int64(6), object(2), uint8(13)\n",
      "memory usage: 6.2+ MB\n"
     ]
    }
   ],
   "source": [
    "\n",
    "df['no_of_adults'] = df['no_of_adults'].replace(\"None\", np.nan)\n",
    "df['no_of_adults'] = df['no_of_adults'].fillna(np.mean)\n",
    "\n",
    "\n",
    "df['no_of_children'] = df['no_of_children'].replace(\"None\", np.nan)\n",
    "df['no_of_children'] = df['no_of_children'].fillna(np.mean)\n",
    "\n",
    "\n",
    "df.info()"
   ]
  },
  {
   "cell_type": "markdown",
   "metadata": {
    "id": "opDU9PiUI3Im"
   },
   "source": [
    "# ***Deleting Columns***"
   ]
  },
  {
   "cell_type": "code",
   "execution_count": null,
   "metadata": {
    "id": "EQQMvM8BxEmR"
   },
   "outputs": [],
   "source": [
    "del df['no_of_adults']\n",
    "del df['no_of_children']"
   ]
  },
  {
   "cell_type": "code",
   "execution_count": null,
   "metadata": {
    "id": "Huuh8BXCOq4n"
   },
   "outputs": [],
   "source": [
    "del df['qualification']\n",
    "del df['housing_status']"
   ]
  },
  {
   "cell_type": "code",
   "execution_count": null,
   "metadata": {
    "colab": {
     "base_uri": "https://localhost:8080/"
    },
    "id": "NxgnsdWVxLwN",
    "outputId": "f4b53091-01f5-4aac-9b4c-4e979a53c720"
   },
   "outputs": [
    {
     "name": "stdout",
     "output_type": "stream",
     "text": [
      "<class 'pandas.core.frame.DataFrame'>\n",
      "RangeIndex: 26707 entries, 0 to 26706\n",
      "Data columns (total 40 columns):\n",
      " #   Column                     Non-Null Count  Dtype  \n",
      "---  ------                     --------------  -----  \n",
      " 0   unique_id                  26707 non-null  int64  \n",
      " 1   h1n1_worry                 26707 non-null  float64\n",
      " 2   h1n1_awareness             26707 non-null  float64\n",
      " 3   antiviral_medication       26707 non-null  float64\n",
      " 4   contact_avoidance          26707 non-null  float64\n",
      " 5   bought_face_mask           26707 non-null  float64\n",
      " 6   wash_hands_frequently      26707 non-null  float64\n",
      " 7   avoid_large_gatherings     26707 non-null  float64\n",
      " 8   reduced_outside_home_cont  26707 non-null  float64\n",
      " 9   avoid_touch_face           26707 non-null  float64\n",
      " 10  dr_recc_h1n1_vacc          26707 non-null  float64\n",
      " 11  dr_recc_seasonal_vacc      26707 non-null  float64\n",
      " 12  chronic_medic_condition    26707 non-null  float64\n",
      " 13  cont_child_undr_6_mnths    26707 non-null  float64\n",
      " 14  is_health_worker           26707 non-null  float64\n",
      " 15  has_health_insur           26707 non-null  float64\n",
      " 16  is_h1n1_vacc_effective     26707 non-null  float64\n",
      " 17  is_h1n1_risky              26707 non-null  float64\n",
      " 18  sick_from_h1n1_vacc        26707 non-null  float64\n",
      " 19  is_seas_vacc_effective     26707 non-null  float64\n",
      " 20  is_seas_risky              26707 non-null  float64\n",
      " 21  sick_from_seas_vacc        26707 non-null  float64\n",
      " 22  sex                        26707 non-null  int64  \n",
      " 23  income_level               26707 non-null  int64  \n",
      " 24  marital_status             26707 non-null  int64  \n",
      " 25  census_msa                 26707 non-null  int64  \n",
      " 26  h1n1_vaccine               26707 non-null  int64  \n",
      " 27  18 - 34 Years              26707 non-null  uint8  \n",
      " 28  35 - 44 Years              26707 non-null  uint8  \n",
      " 29  45 - 54 Years              26707 non-null  uint8  \n",
      " 30  55 - 64 Years              26707 non-null  uint8  \n",
      " 31  65+ Years                  26707 non-null  uint8  \n",
      " 32  Black                      26707 non-null  uint8  \n",
      " 33  Hispanic                   26707 non-null  uint8  \n",
      " 34  Other or Multiple          26707 non-null  uint8  \n",
      " 35  White                      26707 non-null  uint8  \n",
      " 36  0                          26707 non-null  uint8  \n",
      " 37  Employed                   26707 non-null  uint8  \n",
      " 38  Not in Labor Force         26707 non-null  uint8  \n",
      " 39  Unemployed                 26707 non-null  uint8  \n",
      "dtypes: float64(21), int64(6), uint8(13)\n",
      "memory usage: 5.8 MB\n"
     ]
    }
   ],
   "source": [
    "df.info()"
   ]
  },
  {
   "cell_type": "code",
   "execution_count": null,
   "metadata": {
    "id": "FMpHRCVYQy0J"
   },
   "outputs": [],
   "source": [
    "df['h1n1_vaccinePred'] = df['h1n1_vaccine']\n",
    "del df['h1n1_vaccine']"
   ]
  },
  {
   "cell_type": "code",
   "execution_count": null,
   "metadata": {
    "colab": {
     "base_uri": "https://localhost:8080/"
    },
    "id": "8TH6z9C7RNM9",
    "outputId": "1437d034-24b6-49ee-ad68-b53d8ee259a4"
   },
   "outputs": [
    {
     "name": "stdout",
     "output_type": "stream",
     "text": [
      "<class 'pandas.core.frame.DataFrame'>\n",
      "RangeIndex: 26707 entries, 0 to 26706\n",
      "Data columns (total 40 columns):\n",
      " #   Column                     Non-Null Count  Dtype  \n",
      "---  ------                     --------------  -----  \n",
      " 0   unique_id                  26707 non-null  int64  \n",
      " 1   h1n1_worry                 26707 non-null  float64\n",
      " 2   h1n1_awareness             26707 non-null  float64\n",
      " 3   antiviral_medication       26707 non-null  float64\n",
      " 4   contact_avoidance          26707 non-null  float64\n",
      " 5   bought_face_mask           26707 non-null  float64\n",
      " 6   wash_hands_frequently      26707 non-null  float64\n",
      " 7   avoid_large_gatherings     26707 non-null  float64\n",
      " 8   reduced_outside_home_cont  26707 non-null  float64\n",
      " 9   avoid_touch_face           26707 non-null  float64\n",
      " 10  dr_recc_h1n1_vacc          26707 non-null  float64\n",
      " 11  dr_recc_seasonal_vacc      26707 non-null  float64\n",
      " 12  chronic_medic_condition    26707 non-null  float64\n",
      " 13  cont_child_undr_6_mnths    26707 non-null  float64\n",
      " 14  is_health_worker           26707 non-null  float64\n",
      " 15  has_health_insur           26707 non-null  float64\n",
      " 16  is_h1n1_vacc_effective     26707 non-null  float64\n",
      " 17  is_h1n1_risky              26707 non-null  float64\n",
      " 18  sick_from_h1n1_vacc        26707 non-null  float64\n",
      " 19  is_seas_vacc_effective     26707 non-null  float64\n",
      " 20  is_seas_risky              26707 non-null  float64\n",
      " 21  sick_from_seas_vacc        26707 non-null  float64\n",
      " 22  sex                        26707 non-null  int64  \n",
      " 23  income_level               26707 non-null  int64  \n",
      " 24  marital_status             26707 non-null  int64  \n",
      " 25  census_msa                 26707 non-null  int64  \n",
      " 26  18 - 34 Years              26707 non-null  uint8  \n",
      " 27  35 - 44 Years              26707 non-null  uint8  \n",
      " 28  45 - 54 Years              26707 non-null  uint8  \n",
      " 29  55 - 64 Years              26707 non-null  uint8  \n",
      " 30  65+ Years                  26707 non-null  uint8  \n",
      " 31  Black                      26707 non-null  uint8  \n",
      " 32  Hispanic                   26707 non-null  uint8  \n",
      " 33  Other or Multiple          26707 non-null  uint8  \n",
      " 34  White                      26707 non-null  uint8  \n",
      " 35  0                          26707 non-null  uint8  \n",
      " 36  Employed                   26707 non-null  uint8  \n",
      " 37  Not in Labor Force         26707 non-null  uint8  \n",
      " 38  Unemployed                 26707 non-null  uint8  \n",
      " 39  h1n1_vaccinePred           26707 non-null  int64  \n",
      "dtypes: float64(21), int64(6), uint8(13)\n",
      "memory usage: 5.8 MB\n"
     ]
    }
   ],
   "source": [
    "df.info()"
   ]
  },
  {
   "cell_type": "markdown",
   "metadata": {
    "id": "1uJgsGQYI-d4"
   },
   "source": [
    "# ***Dividing Data into X and y***"
   ]
  },
  {
   "cell_type": "code",
   "execution_count": null,
   "metadata": {
    "id": "m5LZ6sFSRNRS"
   },
   "outputs": [],
   "source": [
    "from sklearn.model_selection import train_test_split # To split the data\n",
    "X = df.iloc[: , :-1]\n",
    "y = df.iloc[: ,-1:]\n"
   ]
  },
  {
   "cell_type": "markdown",
   "metadata": {
    "id": "6iShh43kJC4O"
   },
   "source": [
    "# ***Splitting Data into Train and Test***"
   ]
  },
  {
   "cell_type": "code",
   "execution_count": null,
   "metadata": {
    "colab": {
     "base_uri": "https://localhost:8080/"
    },
    "id": "iCz1mk6PQy2r",
    "outputId": "221234bd-1285-4f19-87fe-a7451ec17d66"
   },
   "outputs": [
    {
     "name": "stdout",
     "output_type": "stream",
     "text": [
      "(21365, 39)\n",
      "(5342, 39)\n",
      "(21365, 1)\n",
      "(5342, 1)\n"
     ]
    }
   ],
   "source": [
    "X_train,X_test,y_train,y_test = train_test_split(X,y,test_size=0.20,random_state=0)\n",
    "\n",
    "print(X_train.shape) # 75% of 40\n",
    "print(X_test.shape)  # 25% of 40\n",
    "print(y_train.shape) \n",
    "print(y_test.shape)"
   ]
  },
  {
   "cell_type": "markdown",
   "metadata": {
    "id": "rfsLe7_EJJbY"
   },
   "source": [
    "# ***MOdule for Logistics Regression***"
   ]
  },
  {
   "cell_type": "code",
   "execution_count": null,
   "metadata": {
    "id": "1UsAnqGdRqao"
   },
   "outputs": [],
   "source": [
    "from sklearn.linear_model import LogisticRegression # Machine Learning  MOdule for Logistics Regression\n",
    "logistic_regression= LogisticRegression() "
   ]
  },
  {
   "cell_type": "markdown",
   "metadata": {
    "id": "OWe8zNkGJOmC"
   },
   "source": [
    "# ***Fitting Logistic Regression on Training Data***"
   ]
  },
  {
   "cell_type": "code",
   "execution_count": null,
   "metadata": {
    "colab": {
     "base_uri": "https://localhost:8080/"
    },
    "id": "-kHzgyEHRqeB",
    "outputId": "6e878453-f2d3-46fa-e3be-4cb73cc6d64c"
   },
   "outputs": [
    {
     "name": "stderr",
     "output_type": "stream",
     "text": [
      "/usr/local/lib/python3.6/dist-packages/sklearn/utils/validation.py:760: DataConversionWarning: A column-vector y was passed when a 1d array was expected. Please change the shape of y to (n_samples, ), for example using ravel().\n",
      "  y = column_or_1d(y, warn=True)\n",
      "/usr/local/lib/python3.6/dist-packages/sklearn/linear_model/_logistic.py:940: ConvergenceWarning: lbfgs failed to converge (status=1):\n",
      "STOP: TOTAL NO. of ITERATIONS REACHED LIMIT.\n",
      "\n",
      "Increase the number of iterations (max_iter) or scale the data as shown in:\n",
      "    https://scikit-learn.org/stable/modules/preprocessing.html\n",
      "Please also refer to the documentation for alternative solver options:\n",
      "    https://scikit-learn.org/stable/modules/linear_model.html#logistic-regression\n",
      "  extra_warning_msg=_LOGISTIC_SOLVER_CONVERGENCE_MSG)\n"
     ]
    },
    {
     "data": {
      "text/plain": [
       "LogisticRegression(C=1.0, class_weight=None, dual=False, fit_intercept=True,\n",
       "                   intercept_scaling=1, l1_ratio=None, max_iter=100,\n",
       "                   multi_class='auto', n_jobs=None, penalty='l2',\n",
       "                   random_state=None, solver='lbfgs', tol=0.0001, verbose=0,\n",
       "                   warm_start=False)"
      ]
     },
     "execution_count": 22,
     "metadata": {
      "tags": []
     },
     "output_type": "execute_result"
    }
   ],
   "source": [
    "# You are Building the Model\n",
    "logistic_regression.fit(X_train,y_train)"
   ]
  },
  {
   "cell_type": "markdown",
   "metadata": {
    "id": "mL1pNUyNJZeo"
   },
   "source": [
    "# ***Testing***"
   ]
  },
  {
   "cell_type": "code",
   "execution_count": null,
   "metadata": {
    "colab": {
     "base_uri": "https://localhost:8080/"
    },
    "id": "kEu1BecCRqg1",
    "outputId": "8c6a0a7a-538d-410c-bbf8-fbbf74a5b574"
   },
   "outputs": [
    {
     "name": "stdout",
     "output_type": "stream",
     "text": [
      "[0 0 0 ... 1 1 1]\n",
      "       h1n1_vaccinePred\n",
      "18127                 0\n",
      "21609                 0\n",
      "15009                 0\n",
      "13516                 0\n",
      "15551                 0\n",
      "...                 ...\n",
      "13123                 0\n",
      "19648                 0\n",
      "9845                  1\n",
      "10799                 0\n",
      "2732                  0\n",
      "\n",
      "[21365 rows x 1 columns]\n"
     ]
    }
   ],
   "source": [
    "# Below you are going to compare the performance on training dataset \n",
    "# because this is on the model was \n",
    "pred_y_train = logistic_regression.predict(X_train)\n",
    "\n",
    "\n",
    "\n",
    "pred_y_test =  logistic_regression.predict(X_test)\n",
    "\n",
    "#pred_y_test # Predicted 0 or 1 on test data [25%]\n",
    "print(pred_y_train) # Predicted 0 or 1 on test data [75%]\n",
    "\n",
    "print(y_train)"
   ]
  },
  {
   "cell_type": "markdown",
   "metadata": {
    "id": "ddiHREQuJdvw"
   },
   "source": [
    "# ***Accuracy, AUC_ROC Score***"
   ]
  },
  {
   "cell_type": "code",
   "execution_count": null,
   "metadata": {
    "colab": {
     "base_uri": "https://localhost:8080/"
    },
    "id": "Rms4yGsTY6sh",
    "outputId": "e9c1d27e-72e8-4d8c-c508-7021d165b3e3"
   },
   "outputs": [
    {
     "name": "stdout",
     "output_type": "stream",
     "text": [
      "Accuracy:  0.8238487457880943\n",
      "AUC_ROC SCORE: )  0.6741241979497012\n"
     ]
    }
   ],
   "source": [
    "# Accuracy on test Data\n",
    "from sklearn import metrics\n",
    "\n",
    "print('Accuracy: ',metrics.accuracy_score(y_test, pred_y_test))\n",
    "print('AUC_ROC SCORE: ) ',metrics.roc_auc_score(y_test, pred_y_test))"
   ]
  },
  {
   "cell_type": "code",
   "execution_count": null,
   "metadata": {
    "colab": {
     "base_uri": "https://localhost:8080/"
    },
    "id": "A7uetKJMZBn2",
    "outputId": "83e9a968-1a55-4326-daac-15a50de35a90"
   },
   "outputs": [
    {
     "name": "stdout",
     "output_type": "stream",
     "text": [
      "Accuracy:  0.8319213667212731\n",
      "AUC_ROC SCORE: )  0.6797836581586587\n"
     ]
    }
   ],
   "source": [
    "# Accuracy on train Data\n",
    "\n",
    "\n",
    "\n",
    "print('Accuracy: ',metrics.accuracy_score(y_train, pred_y_train))\n",
    "\n",
    "print('AUC_ROC SCORE: ) ',metrics.roc_auc_score(y_train, pred_y_train))"
   ]
  }
 ],
 "metadata": {
  "colab": {
   "collapsed_sections": [],
   "name": "(Project)vaccine(Logistic Regression).ipynb",
   "provenance": []
  },
  "kernelspec": {
   "display_name": "Python 3",
   "language": "python",
   "name": "python3"
  },
  "language_info": {
   "codemirror_mode": {
    "name": "ipython",
    "version": 3
   },
   "file_extension": ".py",
   "mimetype": "text/x-python",
   "name": "python",
   "nbconvert_exporter": "python",
   "pygments_lexer": "ipython3",
   "version": "3.7.6"
  }
 },
 "nbformat": 4,
 "nbformat_minor": 1
}
